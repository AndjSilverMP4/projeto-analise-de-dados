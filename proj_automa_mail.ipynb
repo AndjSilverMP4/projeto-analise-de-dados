{
 "cells": [
  {
   "cell_type": "markdown",
   "metadata": {},
   "source": [
    "### Vamos criar um projeto de atualização de relatorios por meio de um sistema de gerenciamento de banco de dados. Nossa base de dados na qual usaremos deschbord e informações atualizadas por Email"
   ]
  },
  {
   "cell_type": "code",
   "execution_count": 13,
   "metadata": {},
   "outputs": [],
   "source": [
    "# Vamos instalar  as bibliotecas necessárias.\n",
    "# pip install pandas as pd\n",
    "# pip install openpyxl"
   ]
  },
  {
   "cell_type": "code",
   "execution_count": 14,
   "metadata": {},
   "outputs": [],
   "source": [
    "# importar as bibliotecas\n",
    "import pandas as pd\n",
    "import openpyxl\n",
    "import win32com.client as win32"
   ]
  },
  {
   "cell_type": "code",
   "execution_count": 15,
   "metadata": {},
   "outputs": [],
   "source": [
    "# importar a base de dados\n",
    "tabela_vendas = pd.read_excel(\"Vendas.xlsx\")\n"
   ]
  },
  {
   "cell_type": "code",
   "execution_count": null,
   "metadata": {},
   "outputs": [],
   "source": [
    "# visualizar a base de dados\n",
    "pd.set_option(\"display.max_columns\", None) # mostrar todas as colunas\n",
    "print(tabela_vendas)"
   ]
  },
  {
   "cell_type": "code",
   "execution_count": null,
   "metadata": {},
   "outputs": [],
   "source": [
    "# filtrar colunas de uma tabela no pandas\n",
    "tabela_vendas[['ID Loja', 'Valor Final']]"
   ]
  },
  {
   "cell_type": "code",
   "execution_count": null,
   "metadata": {},
   "outputs": [],
   "source": [
    "# faturamento por loja\n",
    "# tabela.groupby\n",
    "# tabela.groupby + fitro\n",
    "\n",
    "faturamento = tabela_vendas[['ID Loja', 'Valor Final']].groupby('ID Loja').sum() # .sum() soma os valores\n",
    "print(faturamento)"
   ]
  },
  {
   "cell_type": "code",
   "execution_count": null,
   "metadata": {},
   "outputs": [],
   "source": [
    "# quantidade de produtos vendidos por loja\n",
    "quantidade  = tabela_vendas[['ID Loja', 'Quantidade']].groupby('ID Loja').sum()\n",
    "print(quantidade)"
   ]
  },
  {
   "cell_type": "code",
   "execution_count": null,
   "metadata": {},
   "outputs": [],
   "source": [
    "# ticket médio por produto em cada loja\n",
    "\n",
    "ticket_medio = (faturamento[ 'Valor Final'] / quantidade['Quantidade']).to_frame()# to_frame() transforma em tabela!\n",
    "ticket_medio = ticket_medio.rename(columns={0: 'Ticket Médio'}) # renomeando a coluna\n",
    "print(ticket_medio)"
   ]
  },
  {
   "cell_type": "code",
   "execution_count": 21,
   "metadata": {},
   "outputs": [
    {
     "name": "stdout",
     "output_type": "stream",
     "text": [
      "Email Enviado\n"
     ]
    }
   ],
   "source": [
    "# enviar um email com o relatório\n",
    "outlook = win32.Dispatch('outlook.application')\n",
    "mail = outlook.CreateItem(0)\n",
    "mail.To = 'romano290479@gmail.com' # email do destinatário\n",
    "mail.Subject = 'Relatório de Vendas por Loja' # assunto do email\n",
    "mail.HTMLBody = f'''\n",
    "<p>Prezados,</p>\n",
    "<p>Segue o Relatório de Vendas por cada Loja.</p>\n",
    "\n",
    "<p>Faturamento:</p>\n",
    "{faturamento.to_html(formatters={'Valor Final': 'R${:,.2f}'.format})} # formatação do valor\n",
    "<p>Quantidade Vendida:</p>\n",
    "{quantidade.to_html()}\n",
    "<p>ticket Médio dos Produtos em cada Loja:</p>\n",
    "{ticket_medio.to_html(formatters={'Ticket Médio': 'R${:,.2f}'.format})} # formatação do valor\n",
    "\n",
    "<p>Qualquer dúvida estou à disposição.</p>\n",
    "<p>Att.,</p>\n",
    "<p>Anderon Silveira.</p>\n",
    "\n",
    "'''\n",
    "mail.Send()\n",
    "print('Email Enviado')\n"
   ]
  }
 ],
 "metadata": {
  "kernelspec": {
   "display_name": "Python 3",
   "language": "python",
   "name": "python3"
  },
  "language_info": {
   "codemirror_mode": {
    "name": "ipython",
    "version": 3
   },
   "file_extension": ".py",
   "mimetype": "text/x-python",
   "name": "python",
   "nbconvert_exporter": "python",
   "pygments_lexer": "ipython3",
   "version": "3.13.1"
  }
 },
 "nbformat": 4,
 "nbformat_minor": 2
}
